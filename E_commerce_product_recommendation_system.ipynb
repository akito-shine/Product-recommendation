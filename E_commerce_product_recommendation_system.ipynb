{
  "cells": [
    {
      "cell_type": "markdown",
      "metadata": {
        "id": "L4cifd1CzVRZ"
      },
      "source": [
        "# Mount drive"
      ],
      "id": "L4cifd1CzVRZ"
    },
    {
      "cell_type": "code",
      "execution_count": null,
      "metadata": {
        "colab": {
          "base_uri": "https://localhost:8080/"
        },
        "id": "r66gNzLXzUJ7",
        "outputId": "11d9a741-e153-492e-a25e-4216b936e479"
      },
      "outputs": [
        {
          "name": "stdout",
          "output_type": "stream",
          "text": [
            "Drive already mounted at /content/drive; to attempt to forcibly remount, call drive.mount(\"/content/drive\", force_remount=True).\n"
          ]
        }
      ],
      "source": [
        "from google.colab import drive\n",
        "drive.mount('/content/drive')"
      ],
      "id": "r66gNzLXzUJ7"
    },
    {
      "cell_type": "markdown",
      "metadata": {
        "id": "MD_4OHkazjsO"
      },
      "source": [
        "#Install and import libraries"
      ],
      "id": "MD_4OHkazjsO"
    },
    {
      "cell_type": "code",
      "execution_count": null,
      "metadata": {
        "colab": {
          "base_uri": "https://localhost:8080/"
        },
        "id": "56c63522",
        "outputId": "0541ce00-d438-4cb7-fb4d-f51a8317739d",
        "scrolled": true
      },
      "outputs": [
        {
          "name": "stdout",
          "output_type": "stream",
          "text": [
            "Looking in indexes: https://pypi.org/simple, https://us-python.pkg.dev/colab-wheels/public/simple/\n",
            "Requirement already satisfied: pyarrow in /usr/local/lib/python3.9/dist-packages (9.0.0)\n",
            "Requirement already satisfied: numpy>=1.16.6 in /usr/local/lib/python3.9/dist-packages (from pyarrow) (1.22.4)\n",
            "Looking in indexes: https://pypi.org/simple, https://us-python.pkg.dev/colab-wheels/public/simple/\n",
            "Collecting pyodbc\n",
            "  Downloading pyodbc-4.0.35-cp39-cp39-manylinux_2_17_x86_64.manylinux2014_x86_64.whl (329 kB)\n",
            "\u001b[2K     \u001b[90m━━━━━━━━━━━━━━━━━━━━━━━━━━━━━━━━━━━━━━━\u001b[0m \u001b[32m329.8/329.8 KB\u001b[0m \u001b[31m6.3 MB/s\u001b[0m eta \u001b[36m0:00:00\u001b[0m\n",
            "\u001b[?25hInstalling collected packages: pyodbc\n",
            "Successfully installed pyodbc-4.0.35\n"
          ]
        }
      ],
      "source": [
        "!pip install pyarrow\n",
        "!pip install pyodbc"
      ],
      "id": "56c63522"
    },
    {
      "cell_type": "code",
      "execution_count": null,
      "metadata": {
        "colab": {
          "base_uri": "https://localhost:8080/"
        },
        "id": "5QxaAyAuUsPD",
        "outputId": "d2acfa40-53d4-45e9-d5a6-2e9c844cc2cf"
      },
      "outputs": [
        {
          "name": "stdout",
          "output_type": "stream",
          "text": [
            "Looking in indexes: https://pypi.org/simple, https://us-python.pkg.dev/colab-wheels/public/simple/\n",
            "Requirement already satisfied: scikit-learn in /usr/local/lib/python3.9/dist-packages (1.2.2)\n",
            "Requirement already satisfied: joblib>=1.1.1 in /usr/local/lib/python3.9/dist-packages (from scikit-learn) (1.1.1)\n",
            "Requirement already satisfied: scipy>=1.3.2 in /usr/local/lib/python3.9/dist-packages (from scikit-learn) (1.10.1)\n",
            "Requirement already satisfied: threadpoolctl>=2.0.0 in /usr/local/lib/python3.9/dist-packages (from scikit-learn) (3.1.0)\n",
            "Requirement already satisfied: numpy>=1.17.3 in /usr/local/lib/python3.9/dist-packages (from scikit-learn) (1.22.4)\n"
          ]
        }
      ],
      "source": [
        "!pip install -U scikit-learn"
      ],
      "id": "5QxaAyAuUsPD"
    },
    {
      "cell_type": "code",
      "execution_count": null,
      "metadata": {
        "colab": {
          "base_uri": "https://localhost:8080/"
        },
        "id": "B_OudJAAVeqs",
        "outputId": "c0ede293-a253-4373-8a75-f8ccd9d6fe23"
      },
      "outputs": [
        {
          "name": "stdout",
          "output_type": "stream",
          "text": [
            "Looking in indexes: https://pypi.org/simple, https://us-python.pkg.dev/colab-wheels/public/simple/\n",
            "Requirement already satisfied: scikit-learn in /usr/local/lib/python3.9/dist-packages (1.2.2)\n",
            "Requirement already satisfied: numpy>=1.17.3 in /usr/local/lib/python3.9/dist-packages (from scikit-learn) (1.22.4)\n",
            "Requirement already satisfied: threadpoolctl>=2.0.0 in /usr/local/lib/python3.9/dist-packages (from scikit-learn) (3.1.0)\n",
            "Requirement already satisfied: joblib>=1.1.1 in /usr/local/lib/python3.9/dist-packages (from scikit-learn) (1.1.1)\n",
            "Requirement already satisfied: scipy>=1.3.2 in /usr/local/lib/python3.9/dist-packages (from scikit-learn) (1.10.1)\n"
          ]
        }
      ],
      "source": [
        "!pip install scikit-learn"
      ],
      "id": "B_OudJAAVeqs"
    },
    {
      "cell_type": "code",
      "execution_count": null,
      "metadata": {
        "id": "3fff692f"
      },
      "outputs": [],
      "source": [
        "import pyodbc\n",
        "import pandas as pd\n",
        "import warnings\n",
        "warnings.filterwarnings('ignore')\n",
        "import seaborn as sns\n",
        "import matplotlib.pyplot as plt\n",
        "from sklearn.preprocessing import OneHotEncoder\n",
        "from sklearn.preprocessing import LabelEncoder\n",
        "from sklearn.model_selection import train_test_split\n",
        "from sklearn.ensemble import RandomForestClassifier\n",
        "from sklearn.svm import SVC # \"Support vector classifier\"  \n",
        "from sklearn.tree import DecisionTreeClassifier\n",
        "from sklearn.neighbors import KNeighborsClassifier\n",
        "from sklearn.naive_bayes import GaussianNB\n",
        "from sklearn.metrics import confusion_matrix\n",
        "from sklearn.metrics import accuracy_score\n",
        "from sklearn.metrics import classification_report\n",
        "from sklearn import preprocessing\n",
        "import pickle\n",
        "from sklearn.metrics.pairwise import cosine_similarity\n",
        "import numpy as np\n",
        "from sklearn.feature_extraction.text import CountVectorizer\n",
        "from sklearn.metrics.pairwise import cosine_similarity\n",
        "from sklearn.feature_extraction.text import TfidfVectorizer\n",
        "pd.options.display.max_rows = None\n"
      ],
      "id": "3fff692f"
    },
    {
      "cell_type": "markdown",
      "metadata": {
        "id": "70b997bc"
      },
      "source": [
        "#Connect with SQL server"
      ],
      "id": "70b997bc"
    },
    {
      "cell_type": "code",
      "execution_count": null,
      "metadata": {
        "id": "1919dc99"
      },
      "outputs": [],
      "source": [
        "report_driver = '{SQL Server}'\n",
        "report_server = '172.21.105.125'\n",
        "report_database = 'Pocket'\n",
        "report_uid = 'python_user'\n",
        "report_pwd = 'cnWVDSYVmci5nLyN'"
      ],
      "id": "1919dc99"
    },
    {
      "cell_type": "code",
      "execution_count": null,
      "metadata": {
        "id": "1d952904"
      },
      "outputs": [],
      "source": [
        "all_users = pd.DataFrame()\n",
        "products=pd.DataFrame()"
      ],
      "id": "1d952904"
    },
    {
      "cell_type": "markdown",
      "metadata": {
        "id": "9720213d"
      },
      "source": [
        "#Data of users and products "
      ],
      "id": "9720213d"
    },
    {
      "cell_type": "code",
      "execution_count": null,
      "metadata": {
        "id": "cbe1bbd2"
      },
      "outputs": [],
      "source": [
        "all_users_query=\"\"\"select * from [dbo].[Newly Created User Report] where state='active'\"\"\""
      ],
      "id": "cbe1bbd2"
    },
    {
      "cell_type": "code",
      "execution_count": null,
      "metadata": {
        "id": "e5f88438"
      },
      "outputs": [],
      "source": [
        "product_query=\"\"\"select v.[user account id],replace(v.[merchant name],'''','') as [merchant name],v.[reward id],\n",
        "replace(v.[reward name],'''','') as [reward name],v.[voucher id],v.[last engagement status],\n",
        "convert(date,v.[issued date],20) as [issue date],convert(date,v.[redemption date],20) as [redemption date],\n",
        "convert(date,v.[expiration date],20) as [expiration date],v.[reward type],v.[redeemed by merchant name],\n",
        "v.[redeemed by merchant user name],v.[charged points]\n",
        "from [Voucher Engagement - Breakdown] as v\"\"\""
      ],
      "id": "e5f88438"
    },
    {
      "cell_type": "code",
      "execution_count": null,
      "metadata": {
        "id": "015b9966"
      },
      "outputs": [],
      "source": [
        "def db_connect_users_products():\n",
        "    global all_users,products\n",
        "    \n",
        "    conn = pyodbc.connect(driver=report_driver,\n",
        "                        server=report_server,\n",
        "                        database=report_database,\n",
        "                        uid=report_uid,\n",
        "                        pwd=report_pwd,\n",
        "                        autocomit=True)\n",
        "    \n",
        "    all_users = pd.read_sql(all_users_query,conn) \n",
        "    products = pd.read_sql(product_query,conn)    \n",
        "\n",
        "\n",
        "    conn.close()"
      ],
      "id": "015b9966"
    },
    {
      "cell_type": "code",
      "execution_count": null,
      "metadata": {
        "colab": {
          "base_uri": "https://localhost:8080/",
          "height": 287
        },
        "id": "a90a4f02",
        "outputId": "628a6e86-443d-4ef3-867b-b5c63c4d9a56"
      },
      "outputs": [
        {
          "ename": "NameError",
          "evalue": "ignored",
          "output_type": "error",
          "traceback": [
            "\u001b[0;31m---------------------------------------------------------------------------\u001b[0m",
            "\u001b[0;31mNameError\u001b[0m                                 Traceback (most recent call last)",
            "\u001b[0;32m<ipython-input-8-c08dd1cf1164>\u001b[0m in \u001b[0;36m<module>\u001b[0;34m\u001b[0m\n\u001b[0;32m----> 1\u001b[0;31m \u001b[0mdb_connect_users_products\u001b[0m\u001b[0;34m(\u001b[0m\u001b[0;34m)\u001b[0m\u001b[0;34m\u001b[0m\u001b[0;34m\u001b[0m\u001b[0m\n\u001b[0m",
            "\u001b[0;32m<ipython-input-7-903a7688e6e9>\u001b[0m in \u001b[0;36mdb_connect_users_products\u001b[0;34m()\u001b[0m\n\u001b[1;32m      2\u001b[0m     \u001b[0;32mglobal\u001b[0m \u001b[0mall_users\u001b[0m\u001b[0;34m,\u001b[0m\u001b[0mproducts\u001b[0m\u001b[0;34m\u001b[0m\u001b[0;34m\u001b[0m\u001b[0m\n\u001b[1;32m      3\u001b[0m \u001b[0;34m\u001b[0m\u001b[0m\n\u001b[0;32m----> 4\u001b[0;31m     conn = pyodbc.connect(driver=report_driver,\n\u001b[0m\u001b[1;32m      5\u001b[0m                         \u001b[0mserver\u001b[0m\u001b[0;34m=\u001b[0m\u001b[0mreport_server\u001b[0m\u001b[0;34m,\u001b[0m\u001b[0;34m\u001b[0m\u001b[0;34m\u001b[0m\u001b[0m\n\u001b[1;32m      6\u001b[0m                         \u001b[0mdatabase\u001b[0m\u001b[0;34m=\u001b[0m\u001b[0mreport_database\u001b[0m\u001b[0;34m,\u001b[0m\u001b[0;34m\u001b[0m\u001b[0;34m\u001b[0m\u001b[0m\n",
            "\u001b[0;31mNameError\u001b[0m: name 'report_driver' is not defined"
          ]
        }
      ],
      "source": [
        "db_connect_users_products()\n"
      ],
      "id": "a90a4f02"
    },
    {
      "cell_type": "code",
      "execution_count": null,
      "metadata": {
        "id": "21a5ea0f",
        "scrolled": true
      },
      "outputs": [],
      "source": [
        "all_users.columns"
      ],
      "id": "21a5ea0f"
    },
    {
      "cell_type": "code",
      "execution_count": null,
      "metadata": {
        "id": "121cdb74",
        "scrolled": false
      },
      "outputs": [],
      "source": [
        "products.columns"
      ],
      "id": "121cdb74"
    },
    {
      "cell_type": "code",
      "execution_count": null,
      "metadata": {
        "id": "ded4eb1f"
      },
      "outputs": [],
      "source": [
        "products.to_csv(\"C:/Users/shineminnkha/Documents/Pocket data/products.csv\") # export to csv file on local machine(product data)\n"
      ],
      "id": "ded4eb1f"
    },
    {
      "cell_type": "markdown",
      "metadata": {
        "id": "mFG6qbIEz7RI"
      },
      "source": [
        "#Data preprocessing"
      ],
      "id": "mFG6qbIEz7RI"
    },
    {
      "cell_type": "code",
      "execution_count": null,
      "metadata": {
        "id": "9LvVuDsXibIv"
      },
      "outputs": [],
      "source": [
        "users=pd.read_csv(\"/content/drive/MyDrive/AI/Yoma/Yoma budget prediction/final_df.csv\")"
      ],
      "id": "9LvVuDsXibIv"
    },
    {
      "cell_type": "code",
      "execution_count": null,
      "metadata": {
        "id": "c04R_UJy0Emk"
      },
      "outputs": [],
      "source": [
        "products=pd.read_csv(\"/content/drive/MyDrive/AI/Yoma/Recommendation system/products.csv\")"
      ],
      "id": "c04R_UJy0Emk"
    },
    {
      "cell_type": "code",
      "execution_count": null,
      "metadata": {
        "colab": {
          "base_uri": "https://localhost:8080/"
        },
        "id": "Wf-tw4GI1kZ1",
        "outputId": "5abad795-0236-4771-bf1e-dbc796c1a867"
      },
      "outputs": [
        {
          "data": {
            "text/plain": [
              "Index(['Unnamed: 0', 'user account', 'customer name_x', 'mobile phone_x',\n",
              "       'birthday', 'perx registration date', 'state', 'email id',\n",
              "       'registration_source', 'registerd_by_merchant', 'address1', 'city',\n",
              "       'home', 'gender', 'nationality', 'valid_phone', 'campaign id',\n",
              "       'customer name_y', 'mobile phone_y', 'merchant name', 'campaign name_x',\n",
              "       'participated_campaign_frequency', 'campaigns_point_earned',\n",
              "       'stamp_vouchers', 'stamp_expired_vouchers', 'game_vouchers',\n",
              "       'game_expired_vouchers', 'is participated?', 'campaign name_y',\n",
              "       'total_campaign_participated', 'total_sales_point'],\n",
              "      dtype='object')"
            ]
          },
          "execution_count": 8,
          "metadata": {},
          "output_type": "execute_result"
        }
      ],
      "source": [
        "users.columns"
      ],
      "id": "Wf-tw4GI1kZ1"
    },
    {
      "cell_type": "code",
      "execution_count": null,
      "metadata": {
        "colab": {
          "base_uri": "https://localhost:8080/"
        },
        "id": "4JqOTwxq2B6i",
        "outputId": "79bf6a75-8b1b-4fc9-f04e-dc928134e277"
      },
      "outputs": [
        {
          "data": {
            "text/plain": [
              "Index(['Unnamed: 0', 'user account id', 'merchant name', 'reward id',\n",
              "       'reward name', 'voucher id', 'last engagement status', 'issue date',\n",
              "       'redemption date', 'expiration date', 'reward type',\n",
              "       'redeemed by merchant name', 'redeemed by merchant user name',\n",
              "       'charged points'],\n",
              "      dtype='object')"
            ]
          },
          "execution_count": 9,
          "metadata": {},
          "output_type": "execute_result"
        }
      ],
      "source": [
        "products.columns"
      ],
      "id": "4JqOTwxq2B6i"
    },
    {
      "cell_type": "code",
      "execution_count": null,
      "metadata": {
        "colab": {
          "base_uri": "https://localhost:8080/"
        },
        "id": "R_zdns-5lGQW",
        "outputId": "2e8ef1a1-2ff8-468f-9f54-0405b0157962"
      },
      "outputs": [
        {
          "data": {
            "text/plain": [
              "array(['KFC', 'Pocket', 'YKKO', 'heal by Pun Hlaing', 'Yoma Family Day',\n",
              "       'Star City', 'Pun Hlaing Hospital', 'Demo Merchant', 'TNY',\n",
              "       'Horizon Restaurant', 'Balloons Over Bagan (YGN)', 'The Bleachers'],\n",
              "      dtype=object)"
            ]
          },
          "execution_count": 10,
          "metadata": {},
          "output_type": "execute_result"
        }
      ],
      "source": [
        "products['merchant name'].unique()"
      ],
      "id": "R_zdns-5lGQW"
    },
    {
      "cell_type": "code",
      "execution_count": null,
      "metadata": {
        "id": "YQYzS23AbNoE"
      },
      "outputs": [],
      "source": [
        "products['user account id'] = products['user account id'].astype(str)\n",
        "users['user account'] = users['user account'].astype(str)\n",
        "product_user=pd.merge(users,products,how='left',left_on=['user account'],right_on=['user account id'])"
      ],
      "id": "YQYzS23AbNoE"
    },
    {
      "cell_type": "code",
      "execution_count": null,
      "metadata": {
        "colab": {
          "base_uri": "https://localhost:8080/"
        },
        "id": "IpnObWGfYsiy",
        "outputId": "e1234b4d-de06-471b-c335-15d93d6d0e26"
      },
      "outputs": [
        {
          "data": {
            "text/plain": [
              "Index(['Unnamed: 0_x', 'user account', 'customer name_x', 'mobile phone_x',\n",
              "       'birthday', 'perx registration date', 'state', 'email id',\n",
              "       'registration_source', 'registerd_by_merchant', 'address1', 'city',\n",
              "       'home', 'gender', 'nationality', 'valid_phone', 'campaign id',\n",
              "       'customer name_y', 'mobile phone_y', 'merchant name_x',\n",
              "       'campaign name_x', 'participated_campaign_frequency',\n",
              "       'campaigns_point_earned', 'stamp_vouchers', 'stamp_expired_vouchers',\n",
              "       'game_vouchers', 'game_expired_vouchers', 'is participated?',\n",
              "       'campaign name_y', 'total_campaign_participated', 'total_sales_point',\n",
              "       'Unnamed: 0_y', 'user account id', 'merchant name_y', 'reward id',\n",
              "       'reward name', 'voucher id', 'last engagement status', 'issue date',\n",
              "       'redemption date', 'expiration date', 'reward type',\n",
              "       'redeemed by merchant name', 'redeemed by merchant user name',\n",
              "       'charged points'],\n",
              "      dtype='object')"
            ]
          },
          "execution_count": 12,
          "metadata": {},
          "output_type": "execute_result"
        }
      ],
      "source": [
        "product_user.columns"
      ],
      "id": "IpnObWGfYsiy"
    },
    {
      "cell_type": "markdown",
      "metadata": {
        "id": "L4ZQJzk9A90-"
      },
      "source": [
        "#Filter purchased or redeemed products"
      ],
      "id": "L4ZQJzk9A90-"
    },
    {
      "cell_type": "code",
      "execution_count": null,
      "metadata": {
        "id": "6nkzpI0hb_wM"
      },
      "outputs": [],
      "source": [
        "used_product=product_user[product_user['last engagement status']=='redeemed']"
      ],
      "id": "6nkzpI0hb_wM"
    },
    {
      "cell_type": "code",
      "execution_count": null,
      "metadata": {
        "id": "AoyoSc6HEBU4"
      },
      "outputs": [],
      "source": [
        "product= used_product[['user account id','reward name', 'participated_campaign_frequency', 'campaigns_point_earned', \n",
        "         'stamp_vouchers', 'game_vouchers', 'total_campaign_participated', 'total_sales_point']]"
      ],
      "id": "AoyoSc6HEBU4"
    },
    {
      "cell_type": "code",
      "execution_count": null,
      "metadata": {
        "colab": {
          "base_uri": "https://localhost:8080/"
        },
        "id": "ndO6T44gEb8p",
        "outputId": "511a291c-69d5-432f-adbe-df5ad04a6914"
      },
      "outputs": [
        {
          "data": {
            "text/plain": [
              "8"
            ]
          },
          "execution_count": 15,
          "metadata": {},
          "output_type": "execute_result"
        }
      ],
      "source": [
        "len(product.columns)"
      ],
      "id": "ndO6T44gEb8p"
    },
    {
      "cell_type": "code",
      "execution_count": null,
      "metadata": {
        "colab": {
          "base_uri": "https://localhost:8080/"
        },
        "id": "MLNfVLOwmIHd",
        "outputId": "fbbe2793-0f50-4c50-fc1b-601bbffef293"
      },
      "outputs": [
        {
          "data": {
            "text/plain": [
              "1621080"
            ]
          },
          "execution_count": 16,
          "metadata": {},
          "output_type": "execute_result"
        }
      ],
      "source": [
        "len(product.index)"
      ],
      "id": "MLNfVLOwmIHd"
    },
    {
      "cell_type": "code",
      "execution_count": null,
      "metadata": {
        "colab": {
          "base_uri": "https://localhost:8080/"
        },
        "id": "ASngKBH_l42M",
        "outputId": "8d52ff77-6ac3-478b-b752-63dbba72f84f"
      },
      "outputs": [
        {
          "data": {
            "text/plain": [
              "60"
            ]
          },
          "execution_count": 17,
          "metadata": {},
          "output_type": "execute_result"
        }
      ],
      "source": [
        "len(product['reward name'].unique())"
      ],
      "id": "ASngKBH_l42M"
    },
    {
      "cell_type": "code",
      "execution_count": null,
      "metadata": {
        "id": "3uPZv_KBm2uq"
      },
      "outputs": [],
      "source": [
        "# Drop duplicates of the 'Name' column\n",
        "filtered_product = product.drop_duplicates(subset=['reward name'])\n",
        "\n"
      ],
      "id": "3uPZv_KBm2uq"
    },
    {
      "cell_type": "code",
      "execution_count": null,
      "metadata": {
        "colab": {
          "base_uri": "https://localhost:8080/"
        },
        "id": "y05iqHj1kM0h",
        "outputId": "fee692ef-893e-41d0-c854-cf292b723bd6"
      },
      "outputs": [
        {
          "data": {
            "text/plain": [
              "60"
            ]
          },
          "execution_count": 19,
          "metadata": {},
          "output_type": "execute_result"
        }
      ],
      "source": [
        "len(filtered_product.index)"
      ],
      "id": "y05iqHj1kM0h"
    },
    {
      "cell_type": "code",
      "execution_count": null,
      "metadata": {
        "id": "oCMGLf0DmNjC"
      },
      "outputs": [],
      "source": [
        "filtered_product.to_csv(\"/content/drive/MyDrive/AI/Yoma/Recommendation system/filtered_product.csv\") # export to csv file on local machine(product data)"
      ],
      "id": "oCMGLf0DmNjC"
    },
    {
      "cell_type": "code",
      "execution_count": null,
      "metadata": {
        "id": "2lEku3LsKn8n"
      },
      "outputs": [],
      "source": [
        "# product[product['reward name'] == 'Get 2 000 MMK Reward Voucher']"
      ],
      "id": "2lEku3LsKn8n"
    },
    {
      "cell_type": "markdown",
      "metadata": {
        "id": "PsbipCAUcQis"
      },
      "source": [
        "#Combine unique filters with the origin"
      ],
      "id": "PsbipCAUcQis"
    },
    {
      "cell_type": "code",
      "execution_count": null,
      "metadata": {
        "id": "_bCJearzc1KX"
      },
      "outputs": [],
      "source": [
        "unique_products=pd.read_csv('/content/drive/MyDrive/AI/Yoma/Recommendation system/filtered_product.csv')"
      ],
      "id": "_bCJearzc1KX"
    },
    {
      "cell_type": "code",
      "execution_count": null,
      "metadata": {
        "colab": {
          "base_uri": "https://localhost:8080/"
        },
        "id": "-l2IA9dFc_fn",
        "outputId": "edb4c149-c873-492b-80d2-d020e8cb43d4"
      },
      "outputs": [
        {
          "output_type": "execute_result",
          "data": {
            "text/plain": [
              "Index(['Unnamed: 0', 'user account id', 'reward name', 'Tags',\n",
              "       'participated_campaign_frequency', 'campaigns_point_earned',\n",
              "       'stamp_vouchers', 'game_vouchers', 'total_campaign_participated',\n",
              "       'total_sales_point'],\n",
              "      dtype='object')"
            ]
          },
          "metadata": {},
          "execution_count": 67
        }
      ],
      "source": [
        "unique_products.columns"
      ],
      "id": "-l2IA9dFc_fn"
    },
    {
      "cell_type": "code",
      "execution_count": null,
      "metadata": {
        "colab": {
          "base_uri": "https://localhost:8080/"
        },
        "id": "bWOx70nCdJGu",
        "outputId": "d5c47e48-885a-4221-8ecb-029672a5859d"
      },
      "outputs": [
        {
          "data": {
            "text/plain": [
              "5629200"
            ]
          },
          "execution_count": 44,
          "metadata": {},
          "output_type": "execute_result"
        }
      ],
      "source": [
        "len(product_user.index)"
      ],
      "id": "bWOx70nCdJGu"
    },
    {
      "cell_type": "code",
      "execution_count": null,
      "metadata": {
        "colab": {
          "background_save": true
        },
        "id": "mv0igsCAgSKG"
      },
      "outputs": [],
      "source": [
        "pocket = pd.merge(product_user,unique_products, on='reward name')\n"
      ],
      "id": "mv0igsCAgSKG"
    },
    {
      "cell_type": "code",
      "source": [
        "pocket_data = pocket.drop(['participated_campaign_frequency_x','campaigns_point_earned_x','stamp_vouchers_x',\n",
        "                           'game_vouchers_x'], axis=1)\n"
      ],
      "metadata": {
        "id": "XExCVwrJnIY6"
      },
      "id": "XExCVwrJnIY6",
      "execution_count": null,
      "outputs": []
    },
    {
      "cell_type": "code",
      "execution_count": null,
      "metadata": {
        "colab": {
          "base_uri": "https://localhost:8080/"
        },
        "id": "p0VEow4iqF1_",
        "outputId": "cbc2035c-50ba-4d73-e6de-2bd0ab7da44c"
      },
      "outputs": [
        {
          "data": {
            "text/plain": [
              "3809460"
            ]
          },
          "execution_count": 46,
          "metadata": {},
          "output_type": "execute_result"
        }
      ],
      "source": [
        "len(pocket_data.index)"
      ],
      "id": "p0VEow4iqF1_"
    },
    {
      "cell_type": "markdown",
      "metadata": {
        "id": "KStVyLH3eoSY"
      },
      "source": [
        "#Content-based recommendation \n",
        "##Recommendation based on user information and purchased multiple items"
      ],
      "id": "KStVyLH3eoSY"
    },
    {
      "cell_type": "code",
      "execution_count": null,
      "metadata": {
        "colab": {
          "base_uri": "https://localhost:8080/"
        },
        "id": "igK2Jdp7CB3j",
        "outputId": "bf99e16d-e952-4cb5-ee68-9449b8fddf9b"
      },
      "outputs": [
        {
          "data": {
            "text/plain": [
              "Unnamed: 0_x                               0\n",
              "user account                               0\n",
              "customer name_x                         1380\n",
              "mobile phone_x                          1380\n",
              "birthday                                2340\n",
              "perx registration date                  1380\n",
              "state                                   1380\n",
              "email id                                2340\n",
              "registration_source                     1380\n",
              "registerd_by_merchant                3809460\n",
              "address1                             3809460\n",
              "city                                 3809460\n",
              "home                                 3809460\n",
              "gender                                  1380\n",
              "nationality                          3809460\n",
              "valid_phone                             1380\n",
              "campaign id                                0\n",
              "customer name_y                      3315211\n",
              "mobile phone_y                       3315211\n",
              "merchant name_x                      3315211\n",
              "campaign name_x                      3315211\n",
              "participated_campaign_frequency_x    3315211\n",
              "campaigns_point_earned_x             3315211\n",
              "stamp_vouchers_x                     3315211\n",
              "stamp_expired_vouchers               3315211\n",
              "game_vouchers_x                      3315211\n",
              "game_expired_vouchers                3315211\n",
              "is participated?                           0\n",
              "campaign name_y                            0\n",
              "total_campaign_participated_x              0\n",
              "total_sales_point_x                        0\n",
              "Unnamed: 0_y                               0\n",
              "user account id_x                          0\n",
              "merchant name_y                            0\n",
              "reward id                                  0\n",
              "reward name                                0\n",
              "voucher id                                 0\n",
              "last engagement status                     0\n",
              "issue date                                 0\n",
              "redemption date                            0\n",
              "expiration date                            0\n",
              "reward type                                0\n",
              "redeemed by merchant name                  0\n",
              "redeemed by merchant user name             0\n",
              "charged points                             0\n",
              "Unnamed: 0                                 0\n",
              "user account id_y                          0\n",
              "Tags                                       0\n",
              "participated_campaign_frequency_y    3726840\n",
              "campaigns_point_earned_y             3726840\n",
              "stamp_vouchers_y                     3726840\n",
              "game_vouchers_y                      3726840\n",
              "total_campaign_participated_y              0\n",
              "total_sales_point_y                        0\n",
              "dtype: int64"
            ]
          },
          "execution_count": 51,
          "metadata": {},
          "output_type": "execute_result"
        }
      ],
      "source": [
        "pocket_data.isnull().sum()"
      ],
      "id": "igK2Jdp7CB3j"
    },
    {
      "cell_type": "code",
      "execution_count": null,
      "metadata": {
        "id": "8xtibDVBH89A"
      },
      "outputs": [],
      "source": [
        "# reward_name=['FREE Coke from KFC နဲ့တူတူ SHAKE မယ်!', 'Get Chicken Reward']\n",
        "# target_data = user_data[user_data['reward name'].isin(reward_name)] #working\n",
        "# all_data = product[~product['reward name'].isin(reward_name)]\n"
      ],
      "id": "8xtibDVBH89A"
    },
    {
      "cell_type": "code",
      "execution_count": null,
      "metadata": {
        "id": "lP_AkH5gk2Cp"
      },
      "outputs": [],
      "source": [
        "result = pocket_data.loc[pocket_data['user account'] == '10016499715-1669597174','reward name'] #take id of a particular user"
      ],
      "id": "lP_AkH5gk2Cp"
    },
    {
      "cell_type": "code",
      "execution_count": null,
      "metadata": {
        "id": "VH9rRmOsfsq_"
      },
      "outputs": [],
      "source": [
        "result_tag = pocket_data.loc[pocket_data['user account'] == '10016499715-1669597174','Tags'] #take id of a particular user"
      ],
      "id": "VH9rRmOsfsq_"
    },
    {
      "cell_type": "code",
      "execution_count": null,
      "metadata": {
        "id": "FUIz2Zl9qq2E"
      },
      "outputs": [],
      "source": [
        "def recommend_products_multiple(user_id, reward_name, num_recommendations=10):\n",
        "    # Load the data and filter for the specified user and reward name\n",
        "    user_data = pocket_data[pocket_data['user account'] == user_id]\n",
        "    # target_data = user_data[user_data['reward name'] == reward_name]\n",
        "    target_data = user_data[user_data['reward name'].isin(reward_name)] \n",
        "    # Extract the relevant features\n",
        "    feature_cols = ['participated_campaign_frequency', 'campaigns_point_earned',\n",
        "                    'stamp_vouchers', 'game_vouchers','Tags'\n",
        "                    'total_campaign_participated', 'total_sales_point']\n",
        "    target_features = target_data[feature_cols]\n",
        "    # Compute cosine similarity between the target pocket_data and all other pocket_datas\n",
        "    # all_data = pocket_data[pocket_data['reward name'] != reward_name]\n",
        "    all_data = pocket_data[~pocket_data['reward name'].isin(reward_name)]\n",
        "    all_features = all_data[feature_cols]\n",
        "    similarities = cosine_similarity(target_features, all_features)\n",
        "\n",
        "    # Get the indices of the top similar pocket_datas\n",
        "    similar_indices = similarities.argsort()[0][::-1][:num_recommendations]\n",
        "\n",
        "    # Get the reward names of the recommended pocket_datas\n",
        "    recommended_rewards = all_data.iloc[similar_indices]['reward name'].tolist()\n",
        "\n",
        "    return recommended_rewards"
      ],
      "id": "FUIz2Zl9qq2E"
    },
    {
      "cell_type": "code",
      "execution_count": 3,
      "metadata": {
        "id": "-XV41NyEd07v"
      },
      "outputs": [],
      "source": [
        "# result.unique() #user's actual bought items"
      ],
      "id": "-XV41NyEd07v"
    },
    {
      "cell_type": "code",
      "execution_count": 2,
      "metadata": {
        "id": "-cYJR4YVfgR2"
      },
      "outputs": [],
      "source": [
        "# result_tag.unique() #user's actual bought items"
      ],
      "id": "-cYJR4YVfgR2"
    },
    {
      "cell_type": "code",
      "execution_count": 1,
      "metadata": {
        "id": "EeTurpiHVYWq"
      },
      "outputs": [],
      "source": [
        "# #Recommendation based on multiple items\n",
        "# recommendations = recommend_products_multiple('10016499715-1669597174', result.unique())\n",
        "# print(list(set(recommendations)))"
      ],
      "id": "EeTurpiHVYWq"
    },
    {
      "cell_type": "markdown",
      "metadata": {
        "id": "3NEHbu6nY1m-"
      },
      "source": [
        "#Content-based recommendation \n",
        "##Recommendation based on user information and purchased single item"
      ],
      "id": "3NEHbu6nY1m-"
    },
    {
      "cell_type": "code",
      "execution_count": null,
      "metadata": {
        "colab": {
          "base_uri": "https://localhost:8080/"
        },
        "id": "rJslr989XdDa",
        "outputId": "e72806b6-609e-4399-df82-63d10f93eec7"
      },
      "outputs": [
        {
          "data": {
            "text/plain": [
              "1621080"
            ]
          },
          "execution_count": 27,
          "metadata": {},
          "output_type": "execute_result"
        }
      ],
      "source": [
        "len(product['reward name'].index) #60 #1621080"
      ],
      "id": "rJslr989XdDa"
    },
    {
      "cell_type": "code",
      "execution_count": null,
      "metadata": {
        "colab": {
          "base_uri": "https://localhost:8080/"
        },
        "id": "rG7RHCA6X7CJ",
        "outputId": "647dab6d-c447-477a-e78c-c1f445344cfb"
      },
      "outputs": [
        {
          "data": {
            "text/plain": [
              "array(['FREE Coke from KFC နဲ့တူတူ SHAKE မယ်!', 'Get Chicken Reward',\n",
              "       'သံဗူးဖျော်ရည်ဘောင်ချာ', 'Get 3 000 MMK Reward Voucher',\n",
              "       'KFC Spicy Fried Chicken', 'Get 2 000 MMK Reward Voucher',\n",
              "       'Get 1 000 MMK Reward Voucher',\n",
              "       'FREE Coke from Bucket ကြီးခွဲမယ်!', '500 Kyats Worth Voucher',\n",
              "       '1 000 Kyats Worth Voucher', '1 500 Kyats Worth Voucher',\n",
              "       '2 000 Kyats Worth Voucher', 'Youve got FREE Large Fries!',\n",
              "       '12.12 မှာ 1200 coins ဖြင့် ကြက်ကြော်တစ်တုံးယူပါ!',\n",
              "       '3 000 Kyats Worth Voucher', 'ကျောက်ကျောဖျော်ရည်ဘောင်ချာ',\n",
              "       '(ကြာဆံ)ကြက်ကြေးအိုးဆီချက်ပွဲသေးဘောင်ချာ', 'အာလူးထောင်းဘောင်ချာ',\n",
              "       '(ကြာဆံ)ဝက်ကြေးအိုးပွဲသေးဘောင်ချာ', 'YKKO Zee & Black Jelly Drink',\n",
              "       'Get 2pc Chicken Reward', 'Get Fries Reward',\n",
              "       '(ကြာဆံ)ဝက်ကြေးအိုးဆီချက်ပွဲသေးဘောင်ချာ',\n",
              "       'ဝက်ဖတ်ထုတ်ကြော်ဘောင်ချာ', '(ကြာဆံ)ကြက်ကြေးအိုးပွဲသေးဘောင်ချာ',\n",
              "       'Grilled Chicken Meatballs', 'Get Coke Reward',\n",
              "       'ကြက်ဖက်ထုတ်ကြော်ဘောင်ချာ', 'Youve got FREE Coke!',\n",
              "       'နို့သစ်ခွဖျော်ရည်ဘောင်ချာ',\n",
              "       'Challenger Prize (Coins ပေါင်း ၅ ၀၀၀)', 'Star Ferry 1 Way',\n",
              "       '(ဂျုံခေါက်ဆွဲ)ကြက်ပေါင်းဆီချက်ဘောင်ချာ',\n",
              "       '25% discount coupon (medical checkup package)',\n",
              "       'Youve got FREE Chicken!', '5 000 Kyats Worth Voucher',\n",
              "       'ကြက်တောင်ပံကင်(ပွဲသေး)', 'ကြက်ဖက်ထုပ်ပြုတ်',\n",
              "       'ကြက်သားလုံးဆီချက်(ကြာဆံ)', 'City Loft Gift Set',\n",
              "       'Referral Campaign အစီအစဥ်အတွက် ကြက်ကြော် တစ်တုံး FREE ယူပါ!',\n",
              "       'StarCity Gift Set', 'Yoma Land Swiss Made Watch',\n",
              "       'Free facial cleansing', 'YKKO Oldies Drink (သံဗူးဖျော်ရည်)',\n",
              "       'A5 Pool 1 Entry', 'Get 500 MMK Reward Voucher', 'သံဗူးဖျော်ရည်',\n",
              "       '10 000 Kyats Worth Voucher', 'သဘော်သီးဖျော််ရည်',\n",
              "       '20% discount coupon (medical checkup package)',\n",
              "       '15% discount coupon (medical checkup package)',\n",
              "       '50 000 Kyats Worth Voucher', 'TNY',\n",
              "       'HORIZONS - CHINESE NEW YEAR SPECIAL',\n",
              "       'Get 200 MMK Reward Voucher', 'Sign In 2000 Voucher', 'Testing',\n",
              "       'Yay! Youve won a noodle bowl at the bleachers!',\n",
              "       'Get 1 Heat Sensitive Mug Exchange Voucher'], dtype=object)"
            ]
          },
          "execution_count": 29,
          "metadata": {},
          "output_type": "execute_result"
        }
      ],
      "source": [
        "product['reward name'].unique()"
      ],
      "id": "rG7RHCA6X7CJ"
    },
    {
      "cell_type": "code",
      "execution_count": null,
      "metadata": {
        "id": "hGGFk3BeY3gF"
      },
      "outputs": [],
      "source": [
        "def recommend_products_single(user_id, reward_name, num_recommendations=10):\n",
        "    # Load the data and filter for the specified user and reward name\n",
        "    user_data = product[product['user account id'] == user_id]\n",
        "    target_data = user_data[user_data['reward name'] == reward_name]\n",
        "    # Extract the relevant features\n",
        "    feature_cols = ['participated_campaign_frequency', 'campaigns_point_earned',\n",
        "                    'stamp_vouchers', 'game_vouchers',\n",
        "                    'total_campaign_participated', 'total_sales_point']\n",
        "    target_features = target_data[feature_cols]\n",
        "    # Compute cosine similarity between the target product and all other products\n",
        "    all_data = product[product['reward name'] != reward_name]\n",
        "    all_features = all_data[feature_cols]\n",
        "    similarities = cosine_similarity(target_features, all_features)\n",
        "\n",
        "    # Get the indices of the top similar products\n",
        "    similar_indices = similarities.argsort()[0][::-1][:num_recommendations]\n",
        "\n",
        "    # Get the reward names of the recommended products\n",
        "    recommended_rewards = all_data.iloc[similar_indices]['reward name'].tolist()\n",
        "    return recommended_rewards\n"
      ],
      "id": "hGGFk3BeY3gF"
    },
    {
      "cell_type": "code",
      "execution_count": null,
      "metadata": {
        "colab": {
          "base_uri": "https://localhost:8080/"
        },
        "id": "98UqsKW1d2tw",
        "outputId": "e1e0a509-7ee9-4ac1-f4c5-fab77f4a35c5"
      },
      "outputs": [
        {
          "data": {
            "text/plain": [
              "array(['Get Chicken Reward', 'Get 2 000 MMK Reward Voucher',\n",
              "       'Get 1 000 MMK Reward Voucher'], dtype=object)"
            ]
          },
          "execution_count": 44,
          "metadata": {},
          "output_type": "execute_result"
        }
      ],
      "source": [
        "#Real purchased products by the user\n",
        "result.unique()"
      ],
      "id": "98UqsKW1d2tw"
    },
    {
      "cell_type": "code",
      "execution_count": null,
      "metadata": {
        "colab": {
          "base_uri": "https://localhost:8080/"
        },
        "id": "0eZPnRzpgOZX",
        "outputId": "ad5695dd-28e8-4463-d451-23725445f794"
      },
      "outputs": [
        {
          "name": "stdout",
          "output_type": "stream",
          "text": [
            "['Get 2pc Chicken Reward', 'FREE Coke from KFC နဲ့တူတူ SHAKE မယ်!', '1 500 Kyats Worth Voucher', 'Get Fries Reward', 'Get Coke Reward', 'KFC Spicy Fried Chicken', '2 000 Kyats Worth Voucher']\n"
          ]
        }
      ],
      "source": [
        "#Recommendation based on one single item\n",
        "recommendations = recommend_products_single('10016499715-1669597174','Get Chicken Reward')\n",
        "print(list(set(recommendations)))\n"
      ],
      "id": "0eZPnRzpgOZX"
    },
    {
      "cell_type": "code",
      "execution_count": null,
      "metadata": {
        "colab": {
          "base_uri": "https://localhost:8080/"
        },
        "id": "sS5DabGGjPFT",
        "outputId": "cb765a09-f130-48c2-fd97-323123687f8f"
      },
      "outputs": [
        {
          "data": {
            "text/plain": [
              "['FREE Coke from KFC နဲ့တူတူ SHAKE မယ်!',\n",
              " 'Get Coke Reward',\n",
              " 'Get 2pc Chicken Reward',\n",
              " 'Get Fries Reward',\n",
              " '2 000 Kyats Worth Voucher',\n",
              " '1 500 Kyats Worth Voucher',\n",
              " 'KFC Spicy Fried Chicken']"
            ]
          },
          "execution_count": 46,
          "metadata": {},
          "output_type": "execute_result"
        }
      ],
      "source": [
        "# #based on multiple products\n",
        "# ['သံဗူးဖျော်ရည်ဘောင်ချာ', 'FREE Coke from KFC နဲ့တူတူ SHAKE မယ်!', 'Get Coke Reward',\n",
        "#  'Get 2pc Chicken Reward', 'Get Fries Reward']\n",
        "\n",
        "# #based on single product\n",
        "# ['FREE Coke from KFC နဲ့တူတူ SHAKE မယ်!', \n",
        "# 'Get Coke Reward','Get 2pc Chicken Reward','Get Fries Reward',\n",
        "#  '2 000 Kyats Worth Voucher', '1 500 Kyats Worth Voucher', 'KFC Spicy Fried Chicken']\n"
      ],
      "id": "sS5DabGGjPFT"
    },
    {
      "cell_type": "markdown",
      "metadata": {
        "id": "AW4D8Cm3i1vS"
      },
      "source": [
        "#Content-based recommendation \n",
        "##Recommendation based on product information and purchased single item\n",
        "\n"
      ],
      "id": "AW4D8Cm3i1vS"
    },
    {
      "cell_type": "code",
      "execution_count": null,
      "metadata": {
        "id": "nStcZd4fwGax"
      },
      "outputs": [],
      "source": [
        "# Define the features to be used for recommendation\n",
        "features = ['merchant name', 'reward name']\n",
        "\n",
        "# Create a new dataframe with only the relevant features\n",
        "df = products[features]\n",
        "\n",
        "# Clean the text in the 'reward name' column\n",
        "# df['reward name'] = df['reward name'].str.lower().replace('[^a-zA-Z0-9]', ' ', regex=True)\n",
        "\n",
        "# Group the dataframe by 'merchant name' and concatenate the 'reward name' column values for each group\n",
        "grouped_df = df.groupby('merchant name')['reward name'].apply(lambda x: ','.join(x)).reset_index()\n",
        "\n",
        "# Create a count vectorizer to transform the text into vectors\n",
        "vectorizer = CountVectorizer(stop_words='english')\n",
        "\n",
        "# Transform the text into vectors using the count vectorizer\n",
        "vectorized_text = vectorizer.fit_transform(grouped_df['reward name'])\n",
        "\n",
        "# Calculate the cosine similarity matrix between the vectors\n",
        "cosine_sim_matrix = cosine_similarity(vectorized_text)\n",
        "\n",
        "# Define the function to recommend products based on the selected product's 'reward name'\n",
        "def recommend_products_based(user_id, reward_name, top_n=1):\n",
        "    # Get the merchant name of the selected product\n",
        "    selected_merchant = df.loc[df['reward name'] == reward_name, 'merchant name'].values[0]\n",
        "\n",
        "    # Get the index of the selected merchant in the cosine similarity matrix\n",
        "    merchant_idx = grouped_df[grouped_df['merchant name'] == selected_merchant].index[0]\n",
        "\n",
        "    # Get the cosine similarity scores for the selected merchant\n",
        "    merchant_scores = cosine_sim_matrix[merchant_idx]\n",
        "\n",
        "    # Get the indices of the top N products based on similarity scores\n",
        "    top_n_indices = merchant_scores.argsort()[-top_n-1:-1][::-1]\n",
        "\n",
        "    # Get the recommended products\n",
        "    recommended_products = []\n",
        "    for idx in top_n_indices:\n",
        "        recommended_products.append(grouped_df.loc[idx, 'reward name'])\n",
        "    return list(set(recommended_products[0].split(\",\")))\n",
        "# list(set(recommended_products[1].split(\",\")))\n",
        "\n",
        "# list(set(recommended_products))[0].split(\",\")"
      ],
      "id": "nStcZd4fwGax"
    },
    {
      "cell_type": "code",
      "execution_count": null,
      "metadata": {
        "colab": {
          "base_uri": "https://localhost:8080/"
        },
        "id": "KcPbrC7FPL69",
        "outputId": "a62edf57-eff0-40fa-ec8d-5f0310f38f56"
      },
      "outputs": [
        {
          "data": {
            "text/plain": [
              "['Sign In 1000 Voucher',\n",
              " 'YKKO Zee & Black Jelly Drink',\n",
              " 'Sign In 2000 Voucher',\n",
              " 'KFC Spicy Fried Chicken',\n",
              " 'Challenger Prize (Coins ပေါင်း ၅ ၀၀၀)']"
            ]
          },
          "execution_count": 54,
          "metadata": {},
          "output_type": "execute_result"
        }
      ],
      "source": [
        "# recommendation based on merchants\n",
        "recommend_products_based('16597600954-1670587374','Get 2 000 MMK Reward Voucher')"
      ],
      "id": "KcPbrC7FPL69"
    },
    {
      "cell_type": "code",
      "execution_count": null,
      "metadata": {
        "id": "mA_Fth9ykjwT"
      },
      "outputs": [],
      "source": [
        "result = product.loc[product['user account id'] == '1759529049-1670809673','reward name']"
      ],
      "id": "mA_Fth9ykjwT"
    },
    {
      "cell_type": "code",
      "execution_count": null,
      "metadata": {
        "colab": {
          "base_uri": "https://localhost:8080/"
        },
        "id": "FFSePAnUlB_Z",
        "outputId": "e22bb3a0-e6ed-4cc7-af65-f019fa6f1cda"
      },
      "outputs": [
        {
          "data": {
            "text/plain": [
              "array(['Get Chicken Reward', 'Get 1 000 MMK Reward Voucher',\n",
              "       'Get 2 000 MMK Reward Voucher',\n",
              "       '12.12 မှာ 1200 coins ဖြင့် ကြက်ကြော်တစ်တုံးယူပါ!'], dtype=object)"
            ]
          },
          "execution_count": 31,
          "metadata": {},
          "output_type": "execute_result"
        }
      ],
      "source": [
        "result.unique()"
      ],
      "id": "FFSePAnUlB_Z"
    },
    {
      "cell_type": "markdown",
      "metadata": {
        "id": "Kh4RIoQiJ1WY"
      },
      "source": [
        "#Merchant recommendation(based on product, merchant is recommended)"
      ],
      "id": "Kh4RIoQiJ1WY"
    },
    {
      "cell_type": "code",
      "execution_count": null,
      "metadata": {
        "colab": {
          "base_uri": "https://localhost:8080/"
        },
        "id": "GHS_h9PfHihO",
        "outputId": "c39fbd5d-56bc-4b15-d82d-312ea97d1d9a"
      },
      "outputs": [
        {
          "name": "stdout",
          "output_type": "stream",
          "text": [
            "Recommendations for reward name '12.12 မှာ 1200 coins ဖြင့် ကြက်ကြော်တစ်တုံးယူပါ!':\n",
            "For merchant 'KFC', we recommend: \n"
          ]
        }
      ],
      "source": [
        "# Filter the dataframe by the input reward name\n",
        "reward_name = '12.12 မှာ 1200 coins ဖြင့် ကြက်ကြော်တစ်တုံးယူပါ!'\n",
        "df_filtered = products[products['reward name'] == reward_name]\n",
        "\n",
        "# Get the unique merchant names for the filtered dataframe\n",
        "merchant_names = df_filtered['merchant name'].unique()\n",
        "\n",
        "# Create a new dataframe with one row for each unique merchant name\n",
        "df_merchants = pd.DataFrame({'merchant name': merchant_names})\n",
        "\n",
        "# Build a corpus of merchant names for vectorization\n",
        "merchant_corpus = df_merchants['merchant name'].tolist()\n",
        "\n",
        "# Vectorize the merchant corpus\n",
        "vectorizer = CountVectorizer()\n",
        "merchant_matrix = vectorizer.fit_transform(merchant_corpus)\n",
        "\n",
        "# Calculate the cosine similarity matrix for the merchant matrix\n",
        "merchant_similarity = cosine_similarity(merchant_matrix)\n",
        "\n",
        "# Find the most similar merchant names to each merchant name\n",
        "recommendations = {}\n",
        "for i, merchant in enumerate(merchant_names):\n",
        "    similarity_scores = list(merchant_similarity[i])\n",
        "    most_similar_indices = sorted(range(len(similarity_scores)), key=lambda k: similarity_scores[k], reverse=True)[1:6]\n",
        "    most_similar_merchants = [merchant_names[idx] for idx in most_similar_indices]\n",
        "    recommendations[merchant] = most_similar_merchants\n",
        "\n",
        "# Print the recommendations for the input reward name\n",
        "print(f\"Recommendations for reward name '{reward_name}':\")\n",
        "for merchant, similar_merchants in recommendations.items():\n",
        "    print(f\"For merchant '{merchant}', we recommend: {', '.join(similar_merchants)}\")\n"
      ],
      "id": "GHS_h9PfHihO"
    },
    {
      "cell_type": "code",
      "execution_count": null,
      "metadata": {
        "id": "JBTFhj8hJM3A"
      },
      "outputs": [],
      "source": [
        "['Youve got FREE Coke!', 'Get Fries Reward', 'Get Chicken Reward',\n",
        "       'Get 3 000 MMK Reward Voucher',\n",
        "       '20% discount coupon (medical checkup package)',\n",
        "       'FREE Coke from KFC နဲ့တူတူ SHAKE မယ်!',\n",
        "       '12.12 မှာ 1200 coins ဖြင့် ကြက်ကြော်တစ်တုံးယူပါ!']"
      ],
      "id": "JBTFhj8hJM3A"
    }
  ],
  "metadata": {
    "colab": {
      "collapsed_sections": [
        "L4cifd1CzVRZ",
        "MD_4OHkazjsO",
        "70b997bc",
        "9720213d",
        "mFG6qbIEz7RI",
        "L4ZQJzk9A90-",
        "KStVyLH3eoSY",
        "3NEHbu6nY1m-",
        "Kh4RIoQiJ1WY"
      ],
      "provenance": []
    },
    "kernelspec": {
      "display_name": "Python 3 (ipykernel)",
      "language": "python",
      "name": "python3"
    },
    "language_info": {
      "codemirror_mode": {
        "name": "ipython",
        "version": 3
      },
      "file_extension": ".py",
      "mimetype": "text/x-python",
      "name": "python",
      "nbconvert_exporter": "python",
      "pygments_lexer": "ipython3",
      "version": "3.9.13"
    }
  },
  "nbformat": 4,
  "nbformat_minor": 5
}